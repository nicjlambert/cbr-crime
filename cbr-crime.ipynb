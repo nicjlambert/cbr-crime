{
 "cells": [
  {
   "attachments": {},
   "cell_type": "markdown",
   "metadata": {},
   "source": [
    "# Data Preparation and Exploration"
   ]
  },
  {
   "cell_type": "code",
   "execution_count": 55,
   "metadata": {},
   "outputs": [
    {
     "name": "stdout",
     "output_type": "stream",
     "text": [
      "  Neighborhood  Postcode    Country                        Region\n",
      "0        ACTON      2601  Australia  Australian Capital Territory\n",
      "1      AINSLIE      2602  Australia  Australian Capital Territory\n",
      "2       AMAROO      2914  Australia  Australian Capital Territory\n",
      "3       ARANDA      2614  Australia  Australian Capital Territory\n",
      "4        BANKS      2906  Australia  Australian Capital Territory\n",
      "The dataframe has 124 rows and 4 columns\n"
     ]
    }
   ],
   "source": [
    "# Import necessary modules\n",
    "import pandas as pd \n",
    "import numpy as np\n",
    "from numpy import *\n",
    "import geocoder\n",
    "import folium\n",
    "from folium import plugins\n",
    "from tqdm import tqdm\n",
    "from folium.plugins import HeatMap\n",
    "from geopy.geocoders import Nominatim\n",
    "import requests\n",
    "import sklearn\n",
    "from sklearn.cluster import KMeans\n",
    "import matplotlib.cm as cm\n",
    "import matplotlib.colors as colors\n",
    "import matplotlib.pyplot as plt\n",
    "\n",
    "# Read the data from the file and store it in a dataframe\n",
    "cbr_geo = pd.read_csv('indir/cbr-neighbourhood-geo.txt', sep = \"\\t\")\n",
    "\n",
    "# Function to inspect the first few rows of the dataframe\n",
    "def inspect_data(dataframe):\n",
    "    print(dataframe.head())\n",
    "\n",
    "# Function to check the dimensions of the dataframe\n",
    "def check_dimensions(dataframe):\n",
    "    print(\"The dataframe has {} rows and {} columns\".format(dataframe.shape[0], dataframe.shape[1]))\n",
    "\n",
    "# Use the functions to inspect and check the dimensions of the dataframe\n",
    "inspect_data(cbr_geo)\n",
    "check_dimensions(cbr_geo)"
   ]
  },
  {
   "cell_type": "code",
   "execution_count": 56,
   "metadata": {},
   "outputs": [
    {
     "name": "stdout",
     "output_type": "stream",
     "text": [
      "The dataframe has 124 rows and 6 columns\n",
      "  Neighborhood  Postcode    Country                        Region  Latitude  \\\n",
      "0        ACTON      2601  Australia  Australian Capital Territory -35.28562   \n",
      "1      AINSLIE      2602  Australia  Australian Capital Territory -35.26222   \n",
      "2       AMAROO      2914  Australia  Australian Capital Territory -35.16922   \n",
      "3       ARANDA      2614  Australia  Australian Capital Territory -35.25804   \n",
      "4        BANKS      2906  Australia  Australian Capital Territory -35.47002   \n",
      "\n",
      "   Longitude  \n",
      "0  149.11827  \n",
      "1  149.14655  \n",
      "2  149.12637  \n",
      "3  149.08294  \n",
      "4  149.09773  \n",
      "The dataframe has 124 rows and 6 columns\n"
     ]
    }
   ],
   "source": [
    "# Initialize lists to store latitude and longitude\n",
    "latitudes = []\n",
    "longitudes = []\n",
    "\n",
    "# Function to geocode an address and append the latitude and longitude to the lists\n",
    "def geocode_address(address):\n",
    "    g = geocoder.arcgis(address)\n",
    "    latitudes.append(g.latlng[0])\n",
    "    longitudes.append(g.latlng[1])\n",
    "\n",
    "# Loop through the rows of the dataframe and geocode the addresses\n",
    "for i in range(cbr_geo.shape[0]):\n",
    "    address = '{}, Canberra, Australia'.format(cbr_geo.at[i, 'Neighborhood'])\n",
    "    geocode_address(address)\n",
    "\n",
    "# Add the latitude and longitude columns to the dataframe\n",
    "cbr_geo['Latitude'] = latitudes\n",
    "cbr_geo['Longitude'] = longitudes\n",
    "\n",
    "# Check the dimensions of the dataframe\n",
    "print(\"The dataframe has {} rows and {} columns\".format(cbr_geo.shape[0], cbr_geo.shape[1]))\n",
    "\n",
    "# Inspect the first few rows of the dataframe\n",
    "# Use the functions to inspect and check the dimensions of the dataframe\n",
    "inspect_data(cbr_geo)\n",
    "check_dimensions(cbr_geo)\n",
    "\n",
    "# Geocode the address for Canberra, Australia\n",
    "address = 'Canberra, Australian Capital Territory'\n",
    "geolocator = Nominatim(user_agent=\"canberra_explorer\")\n",
    "location = geolocator.geocode(address)\n",
    "latitude = location.latitude\n",
    "longitude = location.longitude\n"
   ]
  },
  {
   "attachments": {},
   "cell_type": "markdown",
   "metadata": {},
   "source": [
    "### Map of Canberra Neighborhoods\n"
   ]
  },
  {
   "cell_type": "code",
   "execution_count": 63,
   "metadata": {},
   "outputs": [],
   "source": [
    "# create a base map of Canberra using latitude and longitude values\n",
    "map_cbr = folium.Map(location=[latitude, longitude], zoom_start=11, tooltip=\"CartoDB dark_matter\")\n",
    "\n",
    "# create a feature group for the markers on the map\n",
    "marker_group = folium.FeatureGroup(name='Markers')\n",
    "\n",
    "# add markers to the feature group\n",
    "for lat, lng, label in zip(cbr_geo['Latitude'], cbr_geo['Longitude'], cbr_geo['Neighborhood']):\n",
    "    label = label\n",
    "    folium.CircleMarker(\n",
    "        [lat, lng],\n",
    "        radius=7.5,\n",
    "        tooltip=label,  # add the neighborhood name as a tooltip on hover\n",
    "        popup=label,\n",
    "        color='darkred',\n",
    "        fill=True,\n",
    "        fill_color='green',\n",
    "        fill_opacity=0.8,\n",
    "        parse_html=False\n",
    "    ).add_to(marker_group)\n",
    "\n",
    "# add the feature group to the map\n",
    "marker_group.add_to(map_cbr)\n",
    "\n",
    "map_cbr\n",
    "\n",
    "# save the map as a .png file\n",
    "map_cbr.save('images/map.png')\n"
   ]
  },
  {
   "cell_type": "code",
   "execution_count": 29,
   "metadata": {},
   "outputs": [],
   "source": [
    "# initialise Foursquare credentials, version no., and limt\n",
    "version = '20180604'\n",
    "limit = 100\n",
    "\n",
    "# create a function to lookup venues and iterate across in Canberra neighborhoods dataset\n",
    "def getNearbyVenues(names, latitudes, longitudes, radius=500):\n",
    "    \n",
    "    venues_list=[]\n",
    "    for name, lat, lng in zip(names, latitudes, longitudes):\n",
    "        print(name)\n",
    "            \n",
    "        # create the API request URL\n",
    "        url = 'https://api.foursquare.com/v2/venues/explore?&client_id={}&client_secret={}&v={}&ll={},{}&radius={}&limit={}'.format(\n",
    "            os.environ['FSQ_CLIENT_ID'], \n",
    "            os.environ['FSQ_CLIENT_SECRET'], \n",
    "            version, \n",
    "            lat, \n",
    "            lng, \n",
    "            radius, \n",
    "            limit)\n",
    "            \n",
    "        # create the GET request\n",
    "        results = requests.get(url).json()[\"response\"]['groups'][0]['items']\n",
    "        \n",
    "        # return only relevant information for each nearby venue\n",
    "        venues_list.append([(\n",
    "            name, \n",
    "            lat, \n",
    "            lng, \n",
    "            v['venue']['name'], \n",
    "            v['venue']['location']['lat'], \n",
    "            v['venue']['location']['lng'],  \n",
    "            v['venue']['categories'][0]['name']) for v in results])\n",
    "\n",
    "    nearby_venues = pd.DataFrame([item for venue_list in venues_list for item in venue_list])\n",
    "    nearby_venues.columns = ['Neighborhood', \n",
    "                  'Neighborhood Latitude', \n",
    "                  'Neighborhood Longitude', \n",
    "                  'Venue', \n",
    "                  'Venue Latitude', \n",
    "                  'Venue Longitude', \n",
    "                  'Venue Category']\n",
    "    \n",
    "    return(nearby_venues)"
   ]
  },
  {
   "cell_type": "code",
   "execution_count": 30,
   "metadata": {},
   "outputs": [
    {
     "name": "stdout",
     "output_type": "stream",
     "text": [
      "ACTON\n"
     ]
    },
    {
     "ename": "KeyError",
     "evalue": "'FSQ_CLIENT_ID'",
     "output_type": "error",
     "traceback": [
      "\u001b[0;31m---------------------------------------------------------------------------\u001b[0m",
      "\u001b[0;31mKeyError\u001b[0m                                  Traceback (most recent call last)",
      "Cell \u001b[0;32mIn[30], line 2\u001b[0m\n\u001b[1;32m      1\u001b[0m \u001b[39m# Run the above function on each neighborhood and create a new dataframe called Canberra venues\u001b[39;00m\n\u001b[0;32m----> 2\u001b[0m cbr_venues \u001b[39m=\u001b[39m getNearbyVenues(names\u001b[39m=\u001b[39;49mcbr_geo[\u001b[39m'\u001b[39;49m\u001b[39mNeighborhood\u001b[39;49m\u001b[39m'\u001b[39;49m],\n\u001b[1;32m      3\u001b[0m                              latitudes\u001b[39m=\u001b[39;49mcbr_geo[\u001b[39m'\u001b[39;49m\u001b[39mLatitude\u001b[39;49m\u001b[39m'\u001b[39;49m],\n\u001b[1;32m      4\u001b[0m                              longitudes\u001b[39m=\u001b[39;49mcbr_geo[\u001b[39m'\u001b[39;49m\u001b[39mLongitude\u001b[39;49m\u001b[39m'\u001b[39;49m]\n\u001b[1;32m      5\u001b[0m                         )\n",
      "Cell \u001b[0;32mIn[29], line 14\u001b[0m, in \u001b[0;36mgetNearbyVenues\u001b[0;34m(names, latitudes, longitudes, radius)\u001b[0m\n\u001b[1;32m     10\u001b[0m \u001b[39mprint\u001b[39m(name)\n\u001b[1;32m     12\u001b[0m \u001b[39m# create the API request URL\u001b[39;00m\n\u001b[1;32m     13\u001b[0m url \u001b[39m=\u001b[39m \u001b[39m'\u001b[39m\u001b[39mhttps://api.foursquare.com/v2/venues/explore?&client_id=\u001b[39m\u001b[39m{}\u001b[39;00m\u001b[39m&client_secret=\u001b[39m\u001b[39m{}\u001b[39;00m\u001b[39m&v=\u001b[39m\u001b[39m{}\u001b[39;00m\u001b[39m&ll=\u001b[39m\u001b[39m{}\u001b[39;00m\u001b[39m,\u001b[39m\u001b[39m{}\u001b[39;00m\u001b[39m&radius=\u001b[39m\u001b[39m{}\u001b[39;00m\u001b[39m&limit=\u001b[39m\u001b[39m{}\u001b[39;00m\u001b[39m'\u001b[39m\u001b[39m.\u001b[39mformat(\n\u001b[0;32m---> 14\u001b[0m     os\u001b[39m.\u001b[39;49menviron[\u001b[39m'\u001b[39;49m\u001b[39mFSQ_CLIENT_ID\u001b[39;49m\u001b[39m'\u001b[39;49m], \n\u001b[1;32m     15\u001b[0m     os\u001b[39m.\u001b[39menviron[\u001b[39m'\u001b[39m\u001b[39mFSQ_CLIENT_SECRET\u001b[39m\u001b[39m'\u001b[39m], \n\u001b[1;32m     16\u001b[0m     version, \n\u001b[1;32m     17\u001b[0m     lat, \n\u001b[1;32m     18\u001b[0m     lng, \n\u001b[1;32m     19\u001b[0m     radius, \n\u001b[1;32m     20\u001b[0m     limit)\n\u001b[1;32m     22\u001b[0m \u001b[39m# create the GET request\u001b[39;00m\n\u001b[1;32m     23\u001b[0m results \u001b[39m=\u001b[39m requests\u001b[39m.\u001b[39mget(url)\u001b[39m.\u001b[39mjson()[\u001b[39m\"\u001b[39m\u001b[39mresponse\u001b[39m\u001b[39m\"\u001b[39m][\u001b[39m'\u001b[39m\u001b[39mgroups\u001b[39m\u001b[39m'\u001b[39m][\u001b[39m0\u001b[39m][\u001b[39m'\u001b[39m\u001b[39mitems\u001b[39m\u001b[39m'\u001b[39m]\n",
      "File \u001b[0;32m/usr/lib/python3.8/os.py:675\u001b[0m, in \u001b[0;36m_Environ.__getitem__\u001b[0;34m(self, key)\u001b[0m\n\u001b[1;32m    672\u001b[0m     value \u001b[39m=\u001b[39m \u001b[39mself\u001b[39m\u001b[39m.\u001b[39m_data[\u001b[39mself\u001b[39m\u001b[39m.\u001b[39mencodekey(key)]\n\u001b[1;32m    673\u001b[0m \u001b[39mexcept\u001b[39;00m \u001b[39mKeyError\u001b[39;00m:\n\u001b[1;32m    674\u001b[0m     \u001b[39m# raise KeyError with the original key value\u001b[39;00m\n\u001b[0;32m--> 675\u001b[0m     \u001b[39mraise\u001b[39;00m \u001b[39mKeyError\u001b[39;00m(key) \u001b[39mfrom\u001b[39;00m \u001b[39mNone\u001b[39m\n\u001b[1;32m    676\u001b[0m \u001b[39mreturn\u001b[39;00m \u001b[39mself\u001b[39m\u001b[39m.\u001b[39mdecodevalue(value)\n",
      "\u001b[0;31mKeyError\u001b[0m: 'FSQ_CLIENT_ID'"
     ]
    }
   ],
   "source": [
    "# Run the above function on each neighborhood and create a new dataframe called Canberra venues\n",
    "cbr_venues = getNearbyVenues(names=cbr_geo['Neighborhood'],\n",
    "                             latitudes=cbr_geo['Latitude'],\n",
    "                             longitudes=cbr_geo['Longitude']\n",
    "                        )"
   ]
  },
  {
   "cell_type": "code",
   "execution_count": null,
   "metadata": {},
   "outputs": [],
   "source": [
    "print(cbr_venues.shape) # check dimensions\n",
    "cbr_venues.head() # inspect data"
   ]
  },
  {
   "cell_type": "code",
   "execution_count": null,
   "metadata": {},
   "outputs": [],
   "source": [
    "cbr_venues.groupby('Neighborhood').count() # aggregate the number of venues returned for each neighborhood\n",
    "\n",
    "print('There are {} unique venue categories.'.format(len(cbr_venues['Venue Category'].unique())))\n",
    "print(cbr_venues.head())"
   ]
  },
  {
   "cell_type": "code",
   "execution_count": null,
   "metadata": {},
   "outputs": [],
   "source": [
    "# analyse each neighbourhood\n",
    "cbr_onehot = pd.get_dummies(cbr_venues[['Venue Category']], prefix=\"\", prefix_sep=\"\") # one hot encoding\n",
    "\n",
    "cbr_onehot['Neighborhood'] = cbr_venues['Neighborhood'] # add neighborhood column back to dataframe\n",
    "\n",
    "fixed_columns = [cbr_onehot.columns[-1]] + list(cbr_onehot.columns[:-1]) # move neighborhood column to the first column \n",
    "cbr_onehot = cbr_onehot[fixed_columns]\n",
    "\n",
    "cbr_onehot.head()"
   ]
  },
  {
   "cell_type": "code",
   "execution_count": null,
   "metadata": {},
   "outputs": [],
   "source": [
    "# aggregate\n",
    "cbr_grouped = cbr_onehot.groupby('Neighborhood').mean().reset_index()\n",
    "cbr_grouped.head()"
   ]
  },
  {
   "cell_type": "code",
   "execution_count": null,
   "metadata": {},
   "outputs": [],
   "source": [
    "# top 5 frequencies\n",
    "\n",
    "num_top_venues = 5\n",
    "\n",
    "for hood in cbr_grouped['Neighborhood']:\n",
    "    print(\"----\"+hood+\"----\")\n",
    "    temp = cbr_grouped[cbr_grouped['Neighborhood'] == hood].T.reset_index()\n",
    "    temp.columns = ['venue','freq']\n",
    "    temp = temp.iloc[1:]\n",
    "    temp['freq'] = temp['freq'].astype(float)\n",
    "    temp = temp.round({'freq': 2})\n",
    "    print(temp.sort_values('freq', ascending=False).reset_index(drop=True).head(num_top_venues))\n",
    "    print('\\n')"
   ]
  },
  {
   "cell_type": "code",
   "execution_count": null,
   "metadata": {},
   "outputs": [],
   "source": [
    "def return_most_common_venues(row, num_top_venues):\n",
    "    row_categories = row.iloc[1:]\n",
    "    row_categories_sorted = row_categories.sort_values(ascending=False)\n",
    "    \n",
    "    return row_categories_sorted.index.values[0:num_top_venues]"
   ]
  },
  {
   "cell_type": "code",
   "execution_count": null,
   "metadata": {},
   "outputs": [],
   "source": [
    "num_top_venues = 5\n",
    "\n",
    "indicators = ['st', 'nd', 'rd']\n",
    "\n",
    "# create columns according to number of top venues\n",
    "columns = ['Neighborhood']\n",
    "for ind in np.arange(num_top_venues):\n",
    "    try:\n",
    "        columns.append('{}{} Most Common Venue'.format(ind+1, indicators[ind]))\n",
    "    except:\n",
    "        columns.append('{}th Most Common Venue'.format(ind+1))\n",
    "\n",
    "# create a new dataframe\n",
    "neighborhoods_venues_sorted = pd.DataFrame(columns=columns)\n",
    "neighborhoods_venues_sorted['Neighborhood'] = cbr_grouped['Neighborhood']\n",
    "\n",
    "for ind in np.arange(cbr_grouped.shape[0]):\n",
    "    neighborhoods_venues_sorted.iloc[ind, 1:] = return_most_common_venues(cbr_grouped.iloc[ind, :], num_top_venues)\n",
    "\n",
    "neighborhoods_venues_sorted.head()"
   ]
  },
  {
   "cell_type": "code",
   "execution_count": null,
   "metadata": {},
   "outputs": [],
   "source": [
    "# set number of clusters\n",
    "kclusters = 5\n",
    "\n",
    "cbr_grouped_clustering = cbr_grouped.drop('Neighborhood', 1)\n",
    "\n",
    "# run k-means clustering\n",
    "kmeans = KMeans(n_clusters=kclusters, random_state=0).fit(cbr_grouped_clustering)\n",
    "\n",
    "# check cluster labels generated for each row in the dataframe\n",
    "kmeans.labels_[0:5]\n",
    "\n",
    "# add clustering labels\n",
    "neighborhoods_venues_sorted.insert(1, 'Cluster Labels', kmeans.labels_)\n",
    "neighborhoods_venues_sorted.tail()"
   ]
  },
  {
   "cell_type": "code",
   "execution_count": null,
   "metadata": {},
   "outputs": [],
   "source": [
    "# merge dataset and check output\n",
    "cbr_merged = pd.merge(cbr_geo, neighborhoods_venues_sorted, on='Neighborhood')\n",
    "cbr_merged.tail()"
   ]
  },
  {
   "cell_type": "code",
   "execution_count": null,
   "metadata": {},
   "outputs": [],
   "source": [
    "# create map\n",
    "map_clusters = folium.Map(location=[latitude, longitude], zoom_start=11, tiles=\"CartoDB dark_matter\")\n",
    "\n",
    "# set color scheme for the clusters\n",
    "x = np.arange(kclusters)\n",
    "ys = [i + x + (i*x)**2 for i in range(kclusters)]\n",
    "colors_array = cm.rainbow(np.linspace(0, 1, len(ys)))\n",
    "rainbow = [colors.rgb2hex(i) for i in colors_array]\n",
    "\n",
    "# add markers to the map\n",
    "markers_colors = []\n",
    "for lat, lon, poi, cluster in zip(cbr_merged['Latitude'], cbr_merged['Longitude'], cbr_merged['Neighborhood'], cbr_merged['Cluster Labels']):\n",
    "    label = folium.Popup(str(poi) + ' Cluster ' + str(cluster), parse_html=True)\n",
    "    folium.CircleMarker(\n",
    "        [lat, lon],\n",
    "        radius=5,\n",
    "        popup=label,\n",
    "        color=rainbow[cluster-1],\n",
    "        fill=True,\n",
    "        fill_color=rainbow[cluster-1],\n",
    "        fill_opacity=0.7).add_to(map_clusters)\n",
    "       \n",
    "map_clusters"
   ]
  },
  {
   "cell_type": "code",
   "execution_count": null,
   "metadata": {},
   "outputs": [],
   "source": [
    "# Loop through each cluster\n",
    "for cluster in range(kclusters):\n",
    "    # Get the data for the cluster\n",
    "    cluster_data = cbr_merged.loc[cbr_merged['Cluster Labels'] == cluster, cbr_merged.columns[[1] + list(range(5, cbr_merged.shape[1]))]]\n",
    "    # Do something with the data for the cluster\n",
    "    print(cluster_data)"
   ]
  },
  {
   "cell_type": "code",
   "execution_count": null,
   "metadata": {},
   "outputs": [],
   "source": [
    "cbr_crime = pd.read_csv('indir/cbr-neighbourhood-crime.txt', sep=\"\\t\")\n",
    "print(cbr_crime.shape) # check dimensions\n",
    "cbr_crime.head() # inspect data"
   ]
  },
  {
   "cell_type": "code",
   "execution_count": null,
   "metadata": {},
   "outputs": [],
   "source": [
    "cbr_crime = cbr_crime[ (cbr_crime['Population']>0) & (cbr_crime['Total'] >0) ] # only process those neighborhoods with crime and population counts\n",
    "cbr_crime['Total per pop'] = (cbr_crime['Total'] /  cbr_crime['Population']) * 100 # determine proportion of total Assault, Robbery, and Burglary per capita\n",
    "cbr_crime['Rank'] = cbr_crime['Total per pop'].rank(ascending=1) # rank order the results"
   ]
  },
  {
   "cell_type": "code",
   "execution_count": null,
   "metadata": {},
   "outputs": [],
   "source": [
    "cbr_crime = pd.merge(cbr_crime, cbr_merged[['Cluster Labels', 'Neighborhood', 'Latitude', 'Longitude']], on='Neighborhood').sort_values('Rank') \n",
    "print(cbr_crime.shape) # check dimensions\n",
    "cbr_crime.head() # inspect data\n",
    "cbr_crime.tail() # inspect data"
   ]
  },
  {
   "cell_type": "code",
   "execution_count": null,
   "metadata": {},
   "outputs": [],
   "source": [
    "map_clusters = folium.Map(location=[latitude, longitude], zoom_start=11, tiles=\"CartoDB dark_matter\")\n",
    "\n",
    "# set color scheme for the clusters\n",
    "x = np.arange(kclusters)\n",
    "ys = [i + x + (i*x)**2 for i in range(kclusters)]\n",
    "colors_array = cm.rainbow(np.linspace(0, 1, len(ys)))\n",
    "rainbow = [colors.rgb2hex(i) for i in colors_array]\n",
    "\n",
    "\n",
    "# query filter map data\n",
    "map_data = cbr_crime[             \n",
    "        (cbr_crime['Cluster Labels'] == 2) & \n",
    "        (cbr_crime['Rank'] < cbr_crime['Rank'].quantile(0.5))] # 90th percentile\n",
    "\n",
    "\n",
    "# add markers to the map\n",
    "markers_colors = []\n",
    "for lat, lon, poi, cluster in zip(map_data['Latitude'], map_data['Longitude'], map_data['Neighborhood'],  map_data['Cluster Labels'] ):\n",
    "    label = folium.Popup(str(poi) + ' Cluster ' + str(cluster), parse_html=True)\n",
    "    folium.CircleMarker(\n",
    "        [lat, lon],\n",
    "        radius=5,\n",
    "        popup=label,\n",
    "        color=rainbow[cluster-1],\n",
    "        fill=True,\n",
    "        fill_color=rainbow[cluster-1],\n",
    "        fill_opacity=0.7).add_to(map_clusters)\n",
    "       \n",
    "map_clusters\n",
    "     "
   ]
  }
 ],
 "metadata": {
  "kernelspec": {
   "display_name": "Python 3",
   "language": "python",
   "name": "python3"
  },
  "language_info": {
   "codemirror_mode": {
    "name": "ipython",
    "version": 3
   },
   "file_extension": ".py",
   "mimetype": "text/x-python",
   "name": "python",
   "nbconvert_exporter": "python",
   "pygments_lexer": "ipython3",
   "version": "3.8.10"
  },
  "orig_nbformat": 4,
  "vscode": {
   "interpreter": {
    "hash": "916dbcbb3f70747c44a77c7bcd40155683ae19c65e1c03b4aa3499c5328201f1"
   }
  }
 },
 "nbformat": 4,
 "nbformat_minor": 2
}
